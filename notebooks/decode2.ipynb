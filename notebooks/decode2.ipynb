{
 "cells": [
  {
   "cell_type": "code",
   "execution_count": 9,
   "id": "b0ee2a36-e80d-4982-b5a5-a69f925470ab",
   "metadata": {},
   "outputs": [
    {
     "name": "stdout",
     "output_type": "stream",
     "text": [
      "Original: ®\n",
      "Decoded: ®\n"
     ]
    }
   ],
   "source": [
    "import ast\n",
    "\n",
    "\n",
    "def decode_unicode_escape(text):\n",
    "    if text:\n",
    "        try:\n",
    "            # Use ast.literal_eval to decode unicode escape sequences\n",
    "            return ast.literal_eval(f'\"{text}\"')\n",
    "        except (ValueError, SyntaxError) as e:\n",
    "            # Log the error and return the original text\n",
    "            print(f\"DecodeError: {e}\")\n",
    "            return text\n",
    "    return text\n",
    "\n",
    "# Test with one string\n",
    "test_string = \"\\u00ae\"  # should decode to 'krampflösende'\n",
    "decoded_string = decode_unicode_escape(test_string)\n",
    "print(f\"Original: {test_string}\")\n",
    "print(f\"Decoded: {decoded_string}\")"
   ]
  },
  {
   "cell_type": "code",
   "execution_count": null,
   "id": "aac804a4-7a4d-4b14-9a8d-5f31b4a370a6",
   "metadata": {},
   "outputs": [],
   "source": []
  }
 ],
 "metadata": {
  "kernelspec": {
   "display_name": "Python 3 (ipykernel)",
   "language": "python",
   "name": "python3"
  },
  "language_info": {
   "codemirror_mode": {
    "name": "ipython",
    "version": 3
   },
   "file_extension": ".py",
   "mimetype": "text/x-python",
   "name": "python",
   "nbconvert_exporter": "python",
   "pygments_lexer": "ipython3",
   "version": "3.10.12"
  }
 },
 "nbformat": 4,
 "nbformat_minor": 5
}
