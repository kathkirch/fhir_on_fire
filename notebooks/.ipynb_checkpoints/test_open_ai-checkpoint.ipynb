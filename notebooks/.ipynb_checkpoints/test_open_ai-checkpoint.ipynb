{
 "cells": [
  {
   "cell_type": "code",
   "execution_count": 1,
   "id": "0177ab28-a5b1-4aba-8b1f-287c08f21741",
   "metadata": {},
   "outputs": [],
   "source": [
    "import sys\n",
    "sys.path.append('/home/kathi/repos/fhir_on_fire')\n",
    "\n",
    "from openai import OpenAI\n",
    "from services.secrets import access_secret_version"
   ]
  },
  {
   "cell_type": "code",
   "execution_count": 2,
   "id": "66350e88-7a62-4eb5-bbe6-fb6629800c88",
   "metadata": {},
   "outputs": [],
   "source": [
    "openai_api_key = access_secret_version('openai_id')\n",
    "openai_organization_id = access_secret_version('openai_key')"
   ]
  },
  {
   "cell_type": "code",
   "execution_count": 3,
   "id": "c36e2194-ecfd-466c-9fc2-a8d21e563f6f",
   "metadata": {},
   "outputs": [
    {
     "ename": "IndentationError",
     "evalue": "unexpected indent (2115321185.py, line 6)",
     "output_type": "error",
     "traceback": [
      "\u001b[0;36m  Cell \u001b[0;32mIn[3], line 6\u001b[0;36m\u001b[0m\n\u001b[0;31m    prompt = f\"Summarise this parlament speech {speech}\"\u001b[0m\n\u001b[0m    ^\u001b[0m\n\u001b[0;31mIndentationError\u001b[0m\u001b[0;31m:\u001b[0m unexpected indent\n"
     ]
    }
   ],
   "source": [
    "client = OpenAI(\n",
    "    api_key=openai_api_key,\n",
    "    organization=openai_organization_id,\n",
    ")\n",
    "\n",
    "prompt = f\"Give me a recipe without meat, easy and 20min max\"\n",
    "\n",
    "response = client.chat.completions.create(\n",
    "    # model=\"gpt-3.5-turbo-1106\",\n",
    "    # model=\"gpt-4\",\n",
    "    # model=\"gpt-4-0613\",\n",
    "    model=\"gpt-4-turbo\",\n",
    "    messages=[\n",
    "        {\"role\": \"system\", \"content\": 'You are an expert in fast and easy recipes'},\n",
    "        {\"role\": \"user\", \"content\": prompt}\n",
    "    ],\n",
    ")\n",
    "summarised_text = response.choices[0].message.content.strip()"
   ]
  }
 ],
 "metadata": {
  "kernelspec": {
   "display_name": "Python 3 (ipykernel)",
   "language": "python",
   "name": "python3"
  },
  "language_info": {
   "codemirror_mode": {
    "name": "ipython",
    "version": 3
   },
   "file_extension": ".py",
   "mimetype": "text/x-python",
   "name": "python",
   "nbconvert_exporter": "python",
   "pygments_lexer": "ipython3",
   "version": "3.10.12"
  }
 },
 "nbformat": 4,
 "nbformat_minor": 5
}
