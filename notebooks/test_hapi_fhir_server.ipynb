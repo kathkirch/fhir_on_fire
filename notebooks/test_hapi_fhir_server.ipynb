{
 "cells": [
  {
   "cell_type": "code",
   "execution_count": 28,
   "metadata": {},
   "outputs": [
    {
     "name": "stdout",
     "output_type": "stream",
     "text": [
      "gefunden <SyncFHIRSearchSet StructureDefinition?>\n",
      "2\n"
     ]
    }
   ],
   "source": [
    "import json \n",
    "\n",
    "from fhirpy import SyncFHIRClient\n",
    "from fhir.resources.structuredefinition import StructureDefinition\n",
    "\n",
    "\n",
    "# URL des FHIR-Servers\n",
    "fhir_server_url = 'http://localhost:8080/fhir'\n",
    "\n",
    "# Erstellen eines FHIR-Clients\n",
    "client = SyncFHIRClient(fhir_server_url)\n",
    "\n",
    "structureDef = client.resources('StructureDefinition')\n",
    "\n",
    "if structureDef: \n",
    "    print(f\"gefunden {structureDef}\")\n",
    "    print(structureDef.count())\n",
    "else: \n",
    "    print(\"Leider nichts gefunden\")\n",
    "\n",
    "\n"
   ]
  }
 ],
 "metadata": {
  "kernelspec": {
   "display_name": "Python 3 (ipykernel)",
   "language": "python",
   "name": "python3"
  },
  "language_info": {
   "codemirror_mode": {
    "name": "ipython",
    "version": 3
   },
   "file_extension": ".py",
   "mimetype": "text/x-python",
   "name": "python",
   "nbconvert_exporter": "python",
   "pygments_lexer": "ipython3",
   "version": "3.10.12"
  }
 },
 "nbformat": 4,
 "nbformat_minor": 4
}
