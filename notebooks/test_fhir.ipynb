{
 "cells": [
  {
   "cell_type": "code",
   "execution_count": 9,
   "metadata": {},
   "outputs": [
    {
     "name": "stdout",
     "output_type": "stream",
     "text": [
      "{\n",
      "  \"resourceType\": \"Organization\",\n",
      "  \"identifier\": [\n",
      "    {\n",
      "      \"value\": \"basg\"\n",
      "    }\n",
      "  ],\n",
      "  \"name\": \"Bundesamt f\\u00fcr Sicherheit im Gesundheitswesen\",\n",
      "  \"contact\": [\n",
      "    {\n",
      "      \"telecom\": [\n",
      "        {\n",
      "          \"system\": \"fax\",\n",
      "          \"value\": \"+ 43 (0) 50 555 36207\"\n",
      "        },\n",
      "        {\n",
      "          \"system\": \"url\",\n",
      "          \"value\": \"www.basg.gv.at/\"\n",
      "        }\n",
      "      ]\n",
      "    },\n",
      "    {\n",
      "      \"address\": {\n",
      "        \"text\": \"Traisengasse 5, 1200 WIEN, \\u00d6STERREICH\",\n",
      "        \"line\": [\n",
      "          \"Traisengasse 5\"\n",
      "        ],\n",
      "        \"city\": \"Wien\",\n",
      "        \"postalCode\": \"1200\",\n",
      "        \"country\": \"Austria\"\n",
      "      }\n",
      "    }\n",
      "  ]\n",
      "}\n"
     ]
    },
    {
     "ename": "ModuleNotFoundError",
     "evalue": "No module named 'fhir.resources.medicationKnowledge'",
     "output_type": "error",
     "traceback": [
      "\u001b[0;31m---------------------------------------------------------------------------\u001b[0m",
      "\u001b[0;31mModuleNotFoundError\u001b[0m                       Traceback (most recent call last)",
      "Cell \u001b[0;32mIn[9], line 12\u001b[0m\n\u001b[1;32m      8\u001b[0m organization\u001b[38;5;241m.\u001b[39mcontact \u001b[38;5;241m=\u001b[39m [{\u001b[38;5;124m\"\u001b[39m\u001b[38;5;124mtelecom\u001b[39m\u001b[38;5;124m\"\u001b[39m: [{ \u001b[38;5;124m\"\u001b[39m\u001b[38;5;124msystem\u001b[39m\u001b[38;5;124m\"\u001b[39m: \u001b[38;5;124m\"\u001b[39m\u001b[38;5;124mfax\u001b[39m\u001b[38;5;124m\"\u001b[39m, \u001b[38;5;124m\"\u001b[39m\u001b[38;5;124mvalue\u001b[39m\u001b[38;5;124m\"\u001b[39m: \u001b[38;5;124m\"\u001b[39m\u001b[38;5;124m+ 43 (0) 50 555 36207\u001b[39m\u001b[38;5;124m\"\u001b[39m}, {\u001b[38;5;124m\"\u001b[39m\u001b[38;5;124msystem\u001b[39m\u001b[38;5;124m\"\u001b[39m: \u001b[38;5;124m\"\u001b[39m\u001b[38;5;124murl\u001b[39m\u001b[38;5;124m\"\u001b[39m, \u001b[38;5;124m\"\u001b[39m\u001b[38;5;124mvalue\u001b[39m\u001b[38;5;124m\"\u001b[39m: \u001b[38;5;124m\"\u001b[39m\u001b[38;5;124mwww.basg.gv.at/\u001b[39m\u001b[38;5;124m\"\u001b[39m}]}, \n\u001b[1;32m      9\u001b[0m                         {\u001b[38;5;124m\"\u001b[39m\u001b[38;5;124maddress\u001b[39m\u001b[38;5;124m\"\u001b[39m: {\u001b[38;5;124m\"\u001b[39m\u001b[38;5;124mtext\u001b[39m\u001b[38;5;124m\"\u001b[39m: \u001b[38;5;124m\"\u001b[39m\u001b[38;5;124mTraisengasse 5, 1200 WIEN, ÖSTERREICH\u001b[39m\u001b[38;5;124m\"\u001b[39m, \u001b[38;5;124m\"\u001b[39m\u001b[38;5;124mline\u001b[39m\u001b[38;5;124m\"\u001b[39m: [\u001b[38;5;124m\"\u001b[39m\u001b[38;5;124mTraisengasse 5\u001b[39m\u001b[38;5;124m\"\u001b[39m], \u001b[38;5;124m\"\u001b[39m\u001b[38;5;124mcity\u001b[39m\u001b[38;5;124m\"\u001b[39m: \u001b[38;5;124m\"\u001b[39m\u001b[38;5;124mWien\u001b[39m\u001b[38;5;124m\"\u001b[39m, \u001b[38;5;124m\"\u001b[39m\u001b[38;5;124mpostalCode\u001b[39m\u001b[38;5;124m\"\u001b[39m: \u001b[38;5;124m\"\u001b[39m\u001b[38;5;124m1200\u001b[39m\u001b[38;5;124m\"\u001b[39m, \u001b[38;5;124m\"\u001b[39m\u001b[38;5;124mcountry\u001b[39m\u001b[38;5;124m\"\u001b[39m: \u001b[38;5;124m\"\u001b[39m\u001b[38;5;124mAustria\u001b[39m\u001b[38;5;124m\"\u001b[39m}}]\n\u001b[1;32m     10\u001b[0m \u001b[38;5;28mprint\u001b[39m(organization\u001b[38;5;241m.\u001b[39mjson(indent\u001b[38;5;241m=\u001b[39m\u001b[38;5;241m2\u001b[39m))\n\u001b[0;32m---> 12\u001b[0m \u001b[38;5;28;01mfrom\u001b[39;00m \u001b[38;5;21;01mfhir\u001b[39;00m\u001b[38;5;21;01m.\u001b[39;00m\u001b[38;5;21;01mresources\u001b[39;00m\u001b[38;5;21;01m.\u001b[39;00m\u001b[38;5;21;01mmedicationKnowledge\u001b[39;00m \u001b[38;5;28;01mimport\u001b[39;00m MedicationKnowledge\n\u001b[1;32m     13\u001b[0m medicationKnowledge \u001b[38;5;241m=\u001b[39m MedicationKnowledge\u001b[38;5;241m.\u001b[39mconstruct()\n\u001b[1;32m     14\u001b[0m medicationKnowledge\u001b[38;5;241m.\u001b[39midentifier \u001b[38;5;241m=\u001b[39m [{\u001b[38;5;124m\"\u001b[39m\u001b[38;5;124mvalue\u001b[39m\u001b[38;5;124m\"\u001b[39m: \u001b[38;5;124m\"\u001b[39m\u001b[38;5;124m1-19251\u001b[39m\u001b[38;5;124m\"\u001b[39m}]\n",
      "\u001b[0;31mModuleNotFoundError\u001b[0m: No module named 'fhir.resources.medicationKnowledge'"
     ]
    }
   ],
   "source": [
    "import sys\n",
    "sys.path.append('/home/kathi/repos/fhir_on_fire')\n",
    "\n",
    "from fhir.resources.organization import Organization\n",
    "organization = Organization.construct()\n",
    "organization.name = \"Bundesamt für Sicherheit im Gesundheitswesen\"\n",
    "organization.identifier = [{\"value\": \"basg\" }]\n",
    "organization.contact = [{\"telecom\": [{ \"system\": \"fax\", \"value\": \"+ 43 (0) 50 555 36207\"}, {\"system\": \"url\", \"value\": \"www.basg.gv.at/\"}]}, \n",
    "                        {\"address\": {\"text\": \"Traisengasse 5, 1200 WIEN, ÖSTERREICH\", \"line\": [\"Traisengasse 5\"], \"city\": \"Wien\", \"postalCode\": \"1200\", \"country\": \"Austria\"}}]\n",
    "print(organization.json(indent=2))\n",
    "\n",
    "from fhir.resources.medicationKnowledge import MedicationKnowledge\n",
    "medicationKnowledge = MedicationKnowledge.construct()\n",
    "medicationKnowledge.identifier = [{\"value\": \"1-19251\"}]\n",
    "\n",
    "print(medicationKnowledge.json(ident=2))\n"
   ]
  },
  {
   "cell_type": "code",
   "execution_count": null,
   "metadata": {},
   "outputs": [],
   "source": []
  }
 ],
 "metadata": {
  "kernelspec": {
   "display_name": "Python 3 (ipykernel)",
   "language": "python",
   "name": "python3"
  },
  "language_info": {
   "codemirror_mode": {
    "name": "ipython",
    "version": 3
   },
   "file_extension": ".py",
   "mimetype": "text/x-python",
   "name": "python",
   "nbconvert_exporter": "python",
   "pygments_lexer": "ipython3",
   "version": "3.10.12"
  }
 },
 "nbformat": 4,
 "nbformat_minor": 4
}
