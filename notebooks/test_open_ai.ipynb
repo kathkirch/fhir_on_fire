{
 "cells": [
  {
   "cell_type": "code",
   "execution_count": 1,
   "id": "0177ab28-a5b1-4aba-8b1f-287c08f21741",
   "metadata": {},
   "outputs": [],
   "source": [
    "import sys\n",
    "sys.path.append('/home/kathi/repos/fhir_on_fire')\n",
    "\n",
    "from openai import OpenAI\n",
    "from services.secrets import access_secret_version"
   ]
  },
  {
   "cell_type": "code",
   "execution_count": 5,
   "id": "66350e88-7a62-4eb5-bbe6-fb6629800c88",
   "metadata": {},
   "outputs": [],
   "source": [
    "openai_api_key = access_secret_version('openai_key')\n",
    "openai_organization_id = access_secret_version('openai_id')"
   ]
  },
  {
   "cell_type": "code",
   "execution_count": 6,
   "id": "c36e2194-ecfd-466c-9fc2-a8d21e563f6f",
   "metadata": {},
   "outputs": [],
   "source": [
    "client = OpenAI(\n",
    "    api_key=openai_api_key,\n",
    "    organization=openai_organization_id,\n",
    ")\n",
    "\n",
    "prompt = f\"Give me a recipe without meat, easy and 20min max\"\n",
    "\n",
    "response = client.chat.completions.create(\n",
    "    # model=\"gpt-3.5-turbo-1106\",\n",
    "    # model=\"gpt-4\",\n",
    "    # model=\"gpt-4-0613\",\n",
    "    model=\"gpt-4-turbo\",\n",
    "    messages=[\n",
    "        {\"role\": \"system\", \"content\": 'You are an expert in fast and easy recipes'},\n",
    "        {\"role\": \"user\", \"content\": prompt}\n",
    "    ],\n",
    ")\n",
    "summarised_text = response.choices[0].message.content.strip()"
   ]
  },
  {
   "cell_type": "code",
   "execution_count": 9,
   "id": "568992d1-6915-47cb-ab04-14aa8299909c",
   "metadata": {},
   "outputs": [
    {
     "name": "stdout",
     "output_type": "stream",
     "text": [
      "Sure, I can provide you with a recipe for a simple and delicious vegetarian dish that you can make in about 20 minutes: Creamy Mushroom Pasta. Here's how to make it:\n",
      "\n",
      "### Ingredients:\n",
      "- 250g pasta (such as fettuccine, spaghetti, or penne)\n",
      "- 1 tablespoon olive oil\n",
      "- 1 small onion, finely chopped\n",
      "- 2-3 cloves garlic, minced\n",
      "- 300g mushrooms, sliced\n",
      "- Salt and pepper, to taste\n",
      "- 1/2 cup heavy cream\n",
      "- 1/4 cup grated Parmesan cheese\n",
      "- Fresh parsley, chopped (for garnish)\n",
      "\n",
      "### Instructions:\n",
      "\n",
      "1. **Cook the Pasta:**\n",
      "   - Bring a large pot of salted water to a boil. Add the pasta and cook according to the package instructions until al dente. Drain and set aside, reserving about 1 cup of pasta water.\n",
      "\n",
      "2. **Sauté the Vegetables:**\n",
      "   - While the pasta cooks, heat the olive oil in a large skillet over medium heat. Add the chopped onion and sauté until translucent, about 2-3 minutes.\n",
      "   - Add the minced garlic and sliced mushrooms to the skillet. Cook, stirring occasionally, until the mushrooms are golden and their moisture has evaporated, about 5-7 minutes. Season with salt and pepper to taste.\n",
      "\n",
      "3. **Combine Pasta and Mushrooms:**\n",
      "   - Add the cooked pasta to the skillet with the mushrooms. Stir to combine.\n",
      "   - Pour in the heavy cream and mix well. If the sauce seems too thick, add a bit of the reserved pasta water to reach your desired consistency.\n",
      "\n",
      "4. **Add Cheese and Serve:**\n",
      "   - Stir in the grated Parmesan cheese until it melts and the sauce becomes creamy.\n",
      "   - Check the seasoning and adjust with more salt and pepper if needed.\n",
      "   - Serve hot, garnished with fresh parsley.\n",
      "\n",
      "This recipe is not only easy to make but also comforting and fulfilling, making it perfect for a quick dinner. Enjoy your meal!\n"
     ]
    }
   ],
   "source": [
    "print(summarised_text)"
   ]
  }
 ],
 "metadata": {
  "kernelspec": {
   "display_name": "Python 3 (ipykernel)",
   "language": "python",
   "name": "python3"
  },
  "language_info": {
   "codemirror_mode": {
    "name": "ipython",
    "version": 3
   },
   "file_extension": ".py",
   "mimetype": "text/x-python",
   "name": "python",
   "nbconvert_exporter": "python",
   "pygments_lexer": "ipython3",
   "version": "3.10.12"
  }
 },
 "nbformat": 4,
 "nbformat_minor": 5
}
